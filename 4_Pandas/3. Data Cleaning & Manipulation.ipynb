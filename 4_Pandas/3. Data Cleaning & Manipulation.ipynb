{
 "cells": [
  {
   "cell_type": "code",
   "execution_count": 1,
   "metadata": {},
   "outputs": [],
   "source": [
    "import pandas as pd\n",
    "import numpy as np"
   ]
  },
  {
   "cell_type": "markdown",
   "metadata": {},
   "source": [
    "# Data Cleaning & Manipulation\n",
    "With Pandas, we can do more than just select data that is already there. \n",
    "We can add new columns to our datasets, apply functions, iterate thorugh each row in the dataframe, and more.\n",
    "\n",
    "This is where we move from \"pandas for exploring our data\" to \"pandas for getting our data ready to feed into models\"."
   ]
  },
  {
   "cell_type": "code",
   "execution_count": 50,
   "metadata": {},
   "outputs": [],
   "source": [
    "wine = pd.read_csv('data/wine_reviews/winemag-data_first150k.csv', index_col=0)\n",
    "energy = pd.read_csv('data/energy/PJM_Load_hourly.csv', parse_dates=True, index_col=0)"
   ]
  },
  {
   "cell_type": "markdown",
   "metadata": {},
   "source": [
    "### Dealing with Null Values:"
   ]
  },
  {
   "cell_type": "code",
   "execution_count": 4,
   "metadata": {},
   "outputs": [
    {
     "name": "stdout",
     "output_type": "stream",
     "text": [
      "Does the wine df contain nulls? True\n"
     ]
    }
   ],
   "source": [
    "print(\"Does the wine df contain nulls?\", wine.isnull().any().any())"
   ]
  },
  {
   "cell_type": "code",
   "execution_count": null,
   "metadata": {},
   "outputs": [],
   "source": [
    "print(\"Does the wine df contain nulls?\", energy.isnull().any().any())"
   ]
  },
  {
   "cell_type": "markdown",
   "metadata": {},
   "source": [
    "**Question:** why did we use `.any()` twice when asking this question?\n",
    "\n",
    "What happens if we just use `.any()` once?"
   ]
  },
  {
   "cell_type": "code",
   "execution_count": 7,
   "metadata": {},
   "outputs": [
    {
     "data": {
      "text/plain": [
       "True"
      ]
     },
     "execution_count": 7,
     "metadata": {},
     "output_type": "execute_result"
    }
   ],
   "source": [
    "wine.isnull().any() # check NA in cols"
   ]
  },
  {
   "cell_type": "code",
   "execution_count": null,
   "metadata": {},
   "outputs": [],
   "source": [
    "wine.isnull().any().any() # checks NA in values of cols"
   ]
  },
  {
   "cell_type": "markdown",
   "metadata": {},
   "source": [
    "Now, we need to deal with the null values in the wine table.\n",
    "How we deal with them will depend on the data type of the column in which null values are found, and how we hope to use the data.\n",
    "\n",
    "If a wine doesn't have a region listed, we can still get a lot of information about it from things like its country. But, if a wine doesn't have a price listed, it's difficult to get much information out of it. \n",
    "\n",
    "So, if a wine has a null value for either of its regions, we will set it to be \"unknown\". But, if it has a null price, we will drop the row."
   ]
  },
  {
   "cell_type": "code",
   "execution_count": 10,
   "metadata": {},
   "outputs": [
    {
     "name": "stdout",
     "output_type": "stream",
     "text": [
      "Shape of wine table before is:  (150930, 10)\n",
      "Number of Null Countries is:  (5, 10)\n"
     ]
    }
   ],
   "source": [
    "print(\"Shape of wine table before is: \", wine.shape)\n",
    "\n",
    "null_country = wine.loc[wine.loc[:, \"country\"].isnull()]\n",
    "print(\"Number of Null Countries is: \", null_country.shape)"
   ]
  },
  {
   "cell_type": "markdown",
   "metadata": {},
   "source": [
    "The 5 rows where a NaN value existed for country have been dropped."
   ]
  },
  {
   "cell_type": "code",
   "execution_count": null,
   "metadata": {},
   "outputs": [],
   "source": [
    "wine = wine.loc[~wine.index.isin(null_country.index)]\n",
    "wine.shape"
   ]
  },
  {
   "cell_type": "markdown",
   "metadata": {},
   "source": [
    "Now we'll do the same for rows with a null price."
   ]
  },
  {
   "cell_type": "code",
   "execution_count": 14,
   "metadata": {},
   "outputs": [
    {
     "data": {
      "text/plain": [
       "(13695, 10)"
      ]
     },
     "execution_count": 14,
     "metadata": {},
     "output_type": "execute_result"
    }
   ],
   "source": [
    "null_price = wine.loc[wine.loc[:, \"price\"].isnull()]\n",
    "null_price.shape"
   ]
  },
  {
   "cell_type": "code",
   "execution_count": 16,
   "metadata": {},
   "outputs": [
    {
     "data": {
      "text/plain": [
       "137230"
      ]
     },
     "execution_count": 16,
     "metadata": {},
     "output_type": "execute_result"
    }
   ],
   "source": [
    "wine = wine.loc[~wine.index.isin(null_price.index)]\n",
    "wine.shape[0]"
   ]
  },
  {
   "cell_type": "markdown",
   "metadata": {},
   "source": [
    "Wow! We lost a lot of rows getting rid of the null price rows.\n",
    "Can you think of another way we could deal with null prices that doesn't mean losing almost 1/10 of our data? What are the pros and cons to using these other methods?"
   ]
  },
  {
   "cell_type": "markdown",
   "metadata": {},
   "source": [
    "Now, for the other columns in which there are nulls, we can use `df.fillna()` to populate the null values with a value of our choosing. \n",
    "\n",
    "This is where we have to make some decisions. Improperly setting variables can have unintended consequences on any analysis we plan to do later using this data."
   ]
  },
  {
   "cell_type": "code",
   "execution_count": null,
   "metadata": {},
   "outputs": [],
   "source": [
    "wine.isnull().any()"
   ]
  },
  {
   "cell_type": "markdown",
   "metadata": {},
   "source": [
    "The only columns where we still have nulls are regions and designations.\n",
    "To avoid having to drop out more rows, we will use \"fillna()\"."
   ]
  },
  {
   "cell_type": "code",
   "execution_count": 18,
   "metadata": {},
   "outputs": [],
   "source": [
    "wine.fillna(\"unknown\", inplace=True)"
   ]
  },
  {
   "cell_type": "markdown",
   "metadata": {},
   "source": [
    "We now have no null values in our dataset!"
   ]
  },
  {
   "cell_type": "code",
   "execution_count": null,
   "metadata": {},
   "outputs": [],
   "source": [
    "wine.isnull().any()"
   ]
  },
  {
   "cell_type": "code",
   "execution_count": null,
   "metadata": {},
   "outputs": [],
   "source": [
    "# visualizing the df to see rows where \"unknown\" has been inserted\n",
    "wine.head()"
   ]
  },
  {
   "cell_type": "markdown",
   "metadata": {},
   "source": [
    "### Creating new columns from existing ones\n",
    "In pandas, it's easy to make a new column from existing ones. "
   ]
  },
  {
   "cell_type": "code",
   "execution_count": null,
   "metadata": {},
   "outputs": [],
   "source": [
    "wine.loc[:, \"Region\"] = wine.loc[:, 'region_1'] + \"_\" \\\n",
    "    + wine.loc[:, 'region_2']\n",
    "wine.head()"
   ]
  },
  {
   "cell_type": "markdown",
   "metadata": {},
   "source": [
    "#### Using a function + apply to make a new column:\n",
    "Let's say we want to make a new column with an ID we can use to identify the records.\n",
    "We can use a helper function + the apply method in pandas to apply it to all rows.\n",
    "Apply looks through each row or column of a dataframe (depending on Axis set)."
   ]
  },
  {
   "cell_type": "code",
   "execution_count": 22,
   "metadata": {},
   "outputs": [],
   "source": [
    "def add_unique_id(row):\n",
    "    row[\"New_ID\"] = (row['country'] + \"_\" + \n",
    "                     row['winery'] + \"_\" +\n",
    "                     str(np.random.randint(1, 1000)))\n",
    "    return row"
   ]
  },
  {
   "cell_type": "code",
   "execution_count": 23,
   "metadata": {},
   "outputs": [],
   "source": [
    "wine = wine.apply(add_unique_id, axis=1) # axis=1 for all rows\n"
   ]
  },
  {
   "cell_type": "code",
   "execution_count": 24,
   "metadata": {},
   "outputs": [
    {
     "data": {
      "text/html": [
       "<div>\n",
       "<style scoped>\n",
       "    .dataframe tbody tr th:only-of-type {\n",
       "        vertical-align: middle;\n",
       "    }\n",
       "\n",
       "    .dataframe tbody tr th {\n",
       "        vertical-align: top;\n",
       "    }\n",
       "\n",
       "    .dataframe thead th {\n",
       "        text-align: right;\n",
       "    }\n",
       "</style>\n",
       "<table border=\"1\" class=\"dataframe\">\n",
       "  <thead>\n",
       "    <tr style=\"text-align: right;\">\n",
       "      <th></th>\n",
       "      <th>country</th>\n",
       "      <th>description</th>\n",
       "      <th>designation</th>\n",
       "      <th>points</th>\n",
       "      <th>price</th>\n",
       "      <th>province</th>\n",
       "      <th>region_1</th>\n",
       "      <th>region_2</th>\n",
       "      <th>variety</th>\n",
       "      <th>winery</th>\n",
       "      <th>Region</th>\n",
       "      <th>New_ID</th>\n",
       "    </tr>\n",
       "  </thead>\n",
       "  <tbody>\n",
       "    <tr>\n",
       "      <th>0</th>\n",
       "      <td>US</td>\n",
       "      <td>This tremendous 100% varietal wine hails from ...</td>\n",
       "      <td>Martha's Vineyard</td>\n",
       "      <td>96</td>\n",
       "      <td>235.0</td>\n",
       "      <td>California</td>\n",
       "      <td>Napa Valley</td>\n",
       "      <td>Napa</td>\n",
       "      <td>Cabernet Sauvignon</td>\n",
       "      <td>Heitz</td>\n",
       "      <td>Napa Valley_Napa</td>\n",
       "      <td>US_Heitz_890</td>\n",
       "    </tr>\n",
       "    <tr>\n",
       "      <th>1</th>\n",
       "      <td>Spain</td>\n",
       "      <td>Ripe aromas of fig, blackberry and cassis are ...</td>\n",
       "      <td>Carodorum Selección Especial Reserva</td>\n",
       "      <td>96</td>\n",
       "      <td>110.0</td>\n",
       "      <td>Northern Spain</td>\n",
       "      <td>Toro</td>\n",
       "      <td>unknown</td>\n",
       "      <td>Tinta de Toro</td>\n",
       "      <td>Bodega Carmen Rodríguez</td>\n",
       "      <td>Toro_unknown</td>\n",
       "      <td>Spain_Bodega Carmen Rodríguez_773</td>\n",
       "    </tr>\n",
       "    <tr>\n",
       "      <th>2</th>\n",
       "      <td>US</td>\n",
       "      <td>Mac Watson honors the memory of a wine once ma...</td>\n",
       "      <td>Special Selected Late Harvest</td>\n",
       "      <td>96</td>\n",
       "      <td>90.0</td>\n",
       "      <td>California</td>\n",
       "      <td>Knights Valley</td>\n",
       "      <td>Sonoma</td>\n",
       "      <td>Sauvignon Blanc</td>\n",
       "      <td>Macauley</td>\n",
       "      <td>Knights Valley_Sonoma</td>\n",
       "      <td>US_Macauley_104</td>\n",
       "    </tr>\n",
       "    <tr>\n",
       "      <th>3</th>\n",
       "      <td>US</td>\n",
       "      <td>This spent 20 months in 30% new French oak, an...</td>\n",
       "      <td>Reserve</td>\n",
       "      <td>96</td>\n",
       "      <td>65.0</td>\n",
       "      <td>Oregon</td>\n",
       "      <td>Willamette Valley</td>\n",
       "      <td>Willamette Valley</td>\n",
       "      <td>Pinot Noir</td>\n",
       "      <td>Ponzi</td>\n",
       "      <td>Willamette Valley_Willamette Valley</td>\n",
       "      <td>US_Ponzi_291</td>\n",
       "    </tr>\n",
       "    <tr>\n",
       "      <th>4</th>\n",
       "      <td>France</td>\n",
       "      <td>This is the top wine from La Bégude, named aft...</td>\n",
       "      <td>La Brûlade</td>\n",
       "      <td>95</td>\n",
       "      <td>66.0</td>\n",
       "      <td>Provence</td>\n",
       "      <td>Bandol</td>\n",
       "      <td>unknown</td>\n",
       "      <td>Provence red blend</td>\n",
       "      <td>Domaine de la Bégude</td>\n",
       "      <td>Bandol_unknown</td>\n",
       "      <td>France_Domaine de la Bégude_893</td>\n",
       "    </tr>\n",
       "  </tbody>\n",
       "</table>\n",
       "</div>"
      ],
      "text/plain": [
       "  country                                        description  \\\n",
       "0      US  This tremendous 100% varietal wine hails from ...   \n",
       "1   Spain  Ripe aromas of fig, blackberry and cassis are ...   \n",
       "2      US  Mac Watson honors the memory of a wine once ma...   \n",
       "3      US  This spent 20 months in 30% new French oak, an...   \n",
       "4  France  This is the top wine from La Bégude, named aft...   \n",
       "\n",
       "                            designation  points  price        province  \\\n",
       "0                     Martha's Vineyard      96  235.0      California   \n",
       "1  Carodorum Selección Especial Reserva      96  110.0  Northern Spain   \n",
       "2         Special Selected Late Harvest      96   90.0      California   \n",
       "3                               Reserve      96   65.0          Oregon   \n",
       "4                            La Brûlade      95   66.0        Provence   \n",
       "\n",
       "            region_1           region_2             variety  \\\n",
       "0        Napa Valley               Napa  Cabernet Sauvignon   \n",
       "1               Toro            unknown       Tinta de Toro   \n",
       "2     Knights Valley             Sonoma     Sauvignon Blanc   \n",
       "3  Willamette Valley  Willamette Valley          Pinot Noir   \n",
       "4             Bandol            unknown  Provence red blend   \n",
       "\n",
       "                    winery                               Region  \\\n",
       "0                    Heitz                     Napa Valley_Napa   \n",
       "1  Bodega Carmen Rodríguez                         Toro_unknown   \n",
       "2                 Macauley                Knights Valley_Sonoma   \n",
       "3                    Ponzi  Willamette Valley_Willamette Valley   \n",
       "4     Domaine de la Bégude                       Bandol_unknown   \n",
       "\n",
       "                              New_ID  \n",
       "0                       US_Heitz_890  \n",
       "1  Spain_Bodega Carmen Rodríguez_773  \n",
       "2                    US_Macauley_104  \n",
       "3                       US_Ponzi_291  \n",
       "4    France_Domaine de la Bégude_893  "
      ]
     },
     "execution_count": 24,
     "metadata": {},
     "output_type": "execute_result"
    }
   ],
   "source": [
    "wine.head()"
   ]
  },
  {
   "cell_type": "markdown",
   "metadata": {},
   "source": [
    "We can use the same approach to make a column for \"great and cheap\" wines, defined here as $50 or less and with a score >95."
   ]
  },
  {
   "cell_type": "code",
   "execution_count": 25,
   "metadata": {},
   "outputs": [],
   "source": [
    "def great_and_cheap(row):\n",
    "    if (row['price']<50) & (row['points'] >= 95):\n",
    "        x = 1\n",
    "    else:\n",
    "        x = 0\n",
    "    return x"
   ]
  },
  {
   "cell_type": "code",
   "execution_count": 27,
   "metadata": {},
   "outputs": [],
   "source": [
    "wine.loc[:, 'price'] = wine.loc[:, 'price'].astype(\"int\")"
   ]
  },
  {
   "cell_type": "code",
   "execution_count": 28,
   "metadata": {},
   "outputs": [],
   "source": [
    "wine.loc[:, \"Great and Cheap\"] = wine.apply(great_and_cheap, axis=1)"
   ]
  },
  {
   "cell_type": "markdown",
   "metadata": {},
   "source": [
    "We can then use that boolean value to sort on the wines."
   ]
  },
  {
   "cell_type": "code",
   "execution_count": 30,
   "metadata": {},
   "outputs": [
    {
     "data": {
      "text/html": [
       "<div>\n",
       "<style scoped>\n",
       "    .dataframe tbody tr th:only-of-type {\n",
       "        vertical-align: middle;\n",
       "    }\n",
       "\n",
       "    .dataframe tbody tr th {\n",
       "        vertical-align: top;\n",
       "    }\n",
       "\n",
       "    .dataframe thead th {\n",
       "        text-align: right;\n",
       "    }\n",
       "</style>\n",
       "<table border=\"1\" class=\"dataframe\">\n",
       "  <thead>\n",
       "    <tr style=\"text-align: right;\">\n",
       "      <th></th>\n",
       "      <th>country</th>\n",
       "      <th>description</th>\n",
       "      <th>designation</th>\n",
       "      <th>points</th>\n",
       "      <th>price</th>\n",
       "      <th>province</th>\n",
       "      <th>region_1</th>\n",
       "      <th>region_2</th>\n",
       "      <th>variety</th>\n",
       "      <th>winery</th>\n",
       "      <th>Region</th>\n",
       "      <th>New_ID</th>\n",
       "      <th>Great and Cheap</th>\n",
       "    </tr>\n",
       "  </thead>\n",
       "  <tbody>\n",
       "    <tr>\n",
       "      <th>11</th>\n",
       "      <td>US</td>\n",
       "      <td>From 18-year-old vines, this supple well-balan...</td>\n",
       "      <td>Estate Vineyard Wadensvil Block</td>\n",
       "      <td>95</td>\n",
       "      <td>48</td>\n",
       "      <td>Oregon</td>\n",
       "      <td>Ribbon Ridge</td>\n",
       "      <td>Willamette Valley</td>\n",
       "      <td>Pinot Noir</td>\n",
       "      <td>Patricia Green Cellars</td>\n",
       "      <td>Ribbon Ridge_Willamette Valley</td>\n",
       "      <td>US_Patricia Green Cellars_480</td>\n",
       "      <td>1</td>\n",
       "    </tr>\n",
       "    <tr>\n",
       "      <th>12</th>\n",
       "      <td>US</td>\n",
       "      <td>A standout even in this terrific lineup of 201...</td>\n",
       "      <td>Weber Vineyard</td>\n",
       "      <td>95</td>\n",
       "      <td>48</td>\n",
       "      <td>Oregon</td>\n",
       "      <td>Dundee Hills</td>\n",
       "      <td>Willamette Valley</td>\n",
       "      <td>Pinot Noir</td>\n",
       "      <td>Patricia Green Cellars</td>\n",
       "      <td>Dundee Hills_Willamette Valley</td>\n",
       "      <td>US_Patricia Green Cellars_759</td>\n",
       "      <td>1</td>\n",
       "    </tr>\n",
       "    <tr>\n",
       "      <th>20</th>\n",
       "      <td>US</td>\n",
       "      <td>Heitz has made this stellar rosé from the rare...</td>\n",
       "      <td>Grignolino</td>\n",
       "      <td>95</td>\n",
       "      <td>24</td>\n",
       "      <td>California</td>\n",
       "      <td>Napa Valley</td>\n",
       "      <td>Napa</td>\n",
       "      <td>Rosé</td>\n",
       "      <td>Heitz</td>\n",
       "      <td>Napa Valley_Napa</td>\n",
       "      <td>US_Heitz_444</td>\n",
       "      <td>1</td>\n",
       "    </tr>\n",
       "    <tr>\n",
       "      <th>24</th>\n",
       "      <td>US</td>\n",
       "      <td>San Jose-based producer Adam Comartin heads 1,...</td>\n",
       "      <td>R-Bar-R Ranch</td>\n",
       "      <td>95</td>\n",
       "      <td>45</td>\n",
       "      <td>California</td>\n",
       "      <td>Santa Cruz Mountains</td>\n",
       "      <td>Central Coast</td>\n",
       "      <td>Pinot Noir</td>\n",
       "      <td>Comartin</td>\n",
       "      <td>Santa Cruz Mountains_Central Coast</td>\n",
       "      <td>US_Comartin_969</td>\n",
       "      <td>1</td>\n",
       "    </tr>\n",
       "    <tr>\n",
       "      <th>2439</th>\n",
       "      <td>US</td>\n",
       "      <td>This is possibly the most savory rendition of ...</td>\n",
       "      <td>Estate</td>\n",
       "      <td>96</td>\n",
       "      <td>40</td>\n",
       "      <td>California</td>\n",
       "      <td>San Luis Obispo County</td>\n",
       "      <td>Central Coast</td>\n",
       "      <td>Syrah</td>\n",
       "      <td>Stolo</td>\n",
       "      <td>San Luis Obispo County_Central Coast</td>\n",
       "      <td>US_Stolo_872</td>\n",
       "      <td>1</td>\n",
       "    </tr>\n",
       "  </tbody>\n",
       "</table>\n",
       "</div>"
      ],
      "text/plain": [
       "     country                                        description  \\\n",
       "11        US  From 18-year-old vines, this supple well-balan...   \n",
       "12        US  A standout even in this terrific lineup of 201...   \n",
       "20        US  Heitz has made this stellar rosé from the rare...   \n",
       "24        US  San Jose-based producer Adam Comartin heads 1,...   \n",
       "2439      US  This is possibly the most savory rendition of ...   \n",
       "\n",
       "                          designation  points  price    province  \\\n",
       "11    Estate Vineyard Wadensvil Block      95     48      Oregon   \n",
       "12                     Weber Vineyard      95     48      Oregon   \n",
       "20                         Grignolino      95     24  California   \n",
       "24                      R-Bar-R Ranch      95     45  California   \n",
       "2439                           Estate      96     40  California   \n",
       "\n",
       "                    region_1           region_2     variety  \\\n",
       "11              Ribbon Ridge  Willamette Valley  Pinot Noir   \n",
       "12              Dundee Hills  Willamette Valley  Pinot Noir   \n",
       "20               Napa Valley               Napa        Rosé   \n",
       "24      Santa Cruz Mountains      Central Coast  Pinot Noir   \n",
       "2439  San Luis Obispo County      Central Coast       Syrah   \n",
       "\n",
       "                      winery                                Region  \\\n",
       "11    Patricia Green Cellars        Ribbon Ridge_Willamette Valley   \n",
       "12    Patricia Green Cellars        Dundee Hills_Willamette Valley   \n",
       "20                     Heitz                      Napa Valley_Napa   \n",
       "24                  Comartin    Santa Cruz Mountains_Central Coast   \n",
       "2439                   Stolo  San Luis Obispo County_Central Coast   \n",
       "\n",
       "                             New_ID  Great and Cheap  \n",
       "11    US_Patricia Green Cellars_480                1  \n",
       "12    US_Patricia Green Cellars_759                1  \n",
       "20                     US_Heitz_444                1  \n",
       "24                  US_Comartin_969                1  \n",
       "2439                   US_Stolo_872                1  "
      ]
     },
     "execution_count": 30,
     "metadata": {},
     "output_type": "execute_result"
    }
   ],
   "source": [
    "wine.loc[wine.loc[:, \"Great and Cheap\"]==1].head()"
   ]
  },
  {
   "cell_type": "markdown",
   "metadata": {},
   "source": [
    "**Exercise:** Make a new column in the energy dataset, showing the energy in time T-1 for each time T. Hint: there is a built-in method in Pandas that can help with this, no complicated functions needed :)"
   ]
  },
  {
   "cell_type": "code",
   "execution_count": 41,
   "metadata": {},
   "outputs": [
    {
     "data": {
      "text/html": [
       "<div>\n",
       "<style scoped>\n",
       "    .dataframe tbody tr th:only-of-type {\n",
       "        vertical-align: middle;\n",
       "    }\n",
       "\n",
       "    .dataframe tbody tr th {\n",
       "        vertical-align: top;\n",
       "    }\n",
       "\n",
       "    .dataframe thead th {\n",
       "        text-align: right;\n",
       "    }\n",
       "</style>\n",
       "<table border=\"1\" class=\"dataframe\">\n",
       "  <thead>\n",
       "    <tr style=\"text-align: right;\">\n",
       "      <th></th>\n",
       "      <th>PJM_Load_MW</th>\n",
       "      <th>time</th>\n",
       "    </tr>\n",
       "    <tr>\n",
       "      <th>Datetime</th>\n",
       "      <th></th>\n",
       "      <th></th>\n",
       "    </tr>\n",
       "  </thead>\n",
       "  <tbody>\n",
       "    <tr>\n",
       "      <th>1998-12-31 01:00:00</th>\n",
       "      <td>29309.0</td>\n",
       "      <td>01:00:00</td>\n",
       "    </tr>\n",
       "    <tr>\n",
       "      <th>1998-12-31 02:00:00</th>\n",
       "      <td>28236.0</td>\n",
       "      <td>02:00:00</td>\n",
       "    </tr>\n",
       "    <tr>\n",
       "      <th>1998-12-31 03:00:00</th>\n",
       "      <td>27692.0</td>\n",
       "      <td>03:00:00</td>\n",
       "    </tr>\n",
       "    <tr>\n",
       "      <th>1998-12-31 04:00:00</th>\n",
       "      <td>27596.0</td>\n",
       "      <td>04:00:00</td>\n",
       "    </tr>\n",
       "    <tr>\n",
       "      <th>1998-12-31 05:00:00</th>\n",
       "      <td>27888.0</td>\n",
       "      <td>05:00:00</td>\n",
       "    </tr>\n",
       "    <tr>\n",
       "      <th>...</th>\n",
       "      <td>...</td>\n",
       "      <td>...</td>\n",
       "    </tr>\n",
       "    <tr>\n",
       "      <th>2001-01-01 20:00:00</th>\n",
       "      <td>35209.0</td>\n",
       "      <td>20:00:00</td>\n",
       "    </tr>\n",
       "    <tr>\n",
       "      <th>2001-01-01 21:00:00</th>\n",
       "      <td>34791.0</td>\n",
       "      <td>21:00:00</td>\n",
       "    </tr>\n",
       "    <tr>\n",
       "      <th>2001-01-01 22:00:00</th>\n",
       "      <td>33669.0</td>\n",
       "      <td>22:00:00</td>\n",
       "    </tr>\n",
       "    <tr>\n",
       "      <th>2001-01-01 23:00:00</th>\n",
       "      <td>31809.0</td>\n",
       "      <td>23:00:00</td>\n",
       "    </tr>\n",
       "    <tr>\n",
       "      <th>2001-01-02 00:00:00</th>\n",
       "      <td>29506.0</td>\n",
       "      <td>00:00:00</td>\n",
       "    </tr>\n",
       "  </tbody>\n",
       "</table>\n",
       "<p>32896 rows × 2 columns</p>\n",
       "</div>"
      ],
      "text/plain": [
       "                     PJM_Load_MW      time\n",
       "Datetime                                  \n",
       "1998-12-31 01:00:00      29309.0  01:00:00\n",
       "1998-12-31 02:00:00      28236.0  02:00:00\n",
       "1998-12-31 03:00:00      27692.0  03:00:00\n",
       "1998-12-31 04:00:00      27596.0  04:00:00\n",
       "1998-12-31 05:00:00      27888.0  05:00:00\n",
       "...                          ...       ...\n",
       "2001-01-01 20:00:00      35209.0  20:00:00\n",
       "2001-01-01 21:00:00      34791.0  21:00:00\n",
       "2001-01-01 22:00:00      33669.0  22:00:00\n",
       "2001-01-01 23:00:00      31809.0  23:00:00\n",
       "2001-01-02 00:00:00      29506.0  00:00:00\n",
       "\n",
       "[32896 rows x 2 columns]"
      ]
     },
     "execution_count": 41,
     "metadata": {},
     "output_type": "execute_result"
    }
   ],
   "source": [
    "energy.head()\n",
    "energy.assign(time =energy.index.time)\n"
   ]
  },
  {
   "cell_type": "code",
   "execution_count": null,
   "metadata": {},
   "outputs": [],
   "source": [
    "energy.assign(energy_time=energy['time']-1)"
   ]
  },
  {
   "cell_type": "markdown",
   "metadata": {},
   "source": [
    "**Exercise:** Re-read the CSV for the wine data, and write a function to take care of all the nan values. Bonus points if it includes a test."
   ]
  },
  {
   "cell_type": "code",
   "execution_count": 51,
   "metadata": {},
   "outputs": [
    {
     "data": {
      "text/plain": [
       "country         True\n",
       "description    False\n",
       "designation     True\n",
       "points         False\n",
       "price           True\n",
       "province        True\n",
       "region_1        True\n",
       "region_2        True\n",
       "variety        False\n",
       "winery         False\n",
       "dtype: bool"
      ]
     },
     "execution_count": 51,
     "metadata": {},
     "output_type": "execute_result"
    }
   ],
   "source": [
    "wine.isnull().any()"
   ]
  },
  {
   "cell_type": "code",
   "execution_count": 53,
   "metadata": {},
   "outputs": [],
   "source": [
    "def clean_null(df):\n",
    "    null_indexes = df.loc[wine.loc[:, :].isnull()]\n",
    "    clean_df = df.loc[~df.index.isin(null_indexes.index)]\n",
    "    return clean_df"
   ]
  },
  {
   "cell_type": "code",
   "execution_count": 61,
   "metadata": {},
   "outputs": [],
   "source": [
    "# easy way\n",
    "wine.dropna(inplace=True)\n",
    "wine.isnull().any()"
   ]
  },
  {
   "cell_type": "code",
   "execution_count": 63,
   "metadata": {},
   "outputs": [
    {
     "data": {
      "text/plain": [
       "country        False\n",
       "description    False\n",
       "designation    False\n",
       "points         False\n",
       "price          False\n",
       "province       False\n",
       "region_1       False\n",
       "region_2       False\n",
       "variety        False\n",
       "winery         False\n",
       "dtype: bool"
      ]
     },
     "execution_count": 63,
     "metadata": {},
     "output_type": "execute_result"
    }
   ],
   "source": []
  },
  {
   "cell_type": "markdown",
   "metadata": {},
   "source": [
    "## Updates: Pandas 1.0\n",
    "Pandas had already been a well-tested package used in development environments for quite some time. The official move to version 1.0 mainly just included some format fixes and \n",
    "- Dedicated types for String, boolean and NaN (before, just called \"object\")\n",
    "- New documentation\n"
   ]
  },
  {
   "cell_type": "code",
   "execution_count": null,
   "metadata": {},
   "outputs": [],
   "source": []
  },
  {
   "cell_type": "code",
   "execution_count": null,
   "metadata": {},
   "outputs": [],
   "source": []
  },
  {
   "cell_type": "code",
   "execution_count": null,
   "metadata": {},
   "outputs": [],
   "source": []
  },
  {
   "cell_type": "code",
   "execution_count": null,
   "metadata": {},
   "outputs": [],
   "source": []
  }
 ],
 "metadata": {
  "kernelspec": {
   "display_name": "Python 3 (ipykernel)",
   "language": "python",
   "name": "python3"
  },
  "language_info": {
   "codemirror_mode": {
    "name": "ipython",
    "version": 3
   },
   "file_extension": ".py",
   "mimetype": "text/x-python",
   "name": "python",
   "nbconvert_exporter": "python",
   "pygments_lexer": "ipython3",
   "version": "3.7.11"
  }
 },
 "nbformat": 4,
 "nbformat_minor": 4
}

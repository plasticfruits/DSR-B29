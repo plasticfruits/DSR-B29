class Perceptron:
    # N is the length of are input feature 
    # alpha learning rate
    def __init__(self, N, alpha=0.1):
        # initialize the weight matrix and store the learning rate
        self.W = np.random.randn(N ) / np.sqrt(N) # normalizing the weigts 
        self.N = N
        self.alpha = alpha
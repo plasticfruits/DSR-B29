{
 "cells": [
  {
   "cell_type": "code",
   "execution_count": 29,
   "id": "94981ecb-0311-45b1-b7dc-f88362cec9c8",
   "metadata": {},
   "outputs": [],
   "source": [
    "#import libraries\n",
    "\n",
    "import pandas as pd\n",
    "import numpy as np\n",
    "\n",
    "from sklearn.linear_model import LinearRegression\n",
    "from sklearn.pipeline import Pipeline\n",
    "from sklearn.model_selection import train_test_split\n",
    "\n",
    "from lightgbm import LGBMRegressor     \n",
    "import category_encoders as ce\n",
    "\n",
    "import datetime\n",
    "\n",
    "\n",
    "from functions import metric   #metric from functions"
   ]
  },
  {
   "cell_type": "code",
   "execution_count": 30,
   "id": "b98db024-24b0-41f4-9dda-fe564d8d1f5b",
   "metadata": {},
   "outputs": [
    {
     "data": {
      "text/html": [
       "<div>\n",
       "<style scoped>\n",
       "    .dataframe tbody tr th:only-of-type {\n",
       "        vertical-align: middle;\n",
       "    }\n",
       "\n",
       "    .dataframe tbody tr th {\n",
       "        vertical-align: top;\n",
       "    }\n",
       "\n",
       "    .dataframe thead th {\n",
       "        text-align: right;\n",
       "    }\n",
       "</style>\n",
       "<table border=\"1\" class=\"dataframe\">\n",
       "  <thead>\n",
       "    <tr style=\"text-align: right;\">\n",
       "      <th></th>\n",
       "      <th>Date</th>\n",
       "      <th>Store</th>\n",
       "      <th>DayOfWeek</th>\n",
       "      <th>Sales</th>\n",
       "      <th>Customers</th>\n",
       "      <th>Open</th>\n",
       "      <th>Promo</th>\n",
       "      <th>StateHoliday</th>\n",
       "      <th>SchoolHoliday</th>\n",
       "      <th>StoreType</th>\n",
       "      <th>Assortment</th>\n",
       "      <th>CompetitionDistance</th>\n",
       "      <th>CompetitionOpenSinceMonth</th>\n",
       "      <th>CompetitionOpenSinceYear</th>\n",
       "      <th>Promo2</th>\n",
       "      <th>Promo2SinceWeek</th>\n",
       "      <th>Promo2SinceYear</th>\n",
       "      <th>PromoInterval</th>\n",
       "    </tr>\n",
       "  </thead>\n",
       "  <tbody>\n",
       "    <tr>\n",
       "      <th>3</th>\n",
       "      <td>2013-01-01</td>\n",
       "      <td>377.0</td>\n",
       "      <td>2.0</td>\n",
       "      <td>0.0</td>\n",
       "      <td>0.0</td>\n",
       "      <td>0.0</td>\n",
       "      <td>0.0</td>\n",
       "      <td>a</td>\n",
       "      <td>1.0</td>\n",
       "      <td>a</td>\n",
       "      <td>c</td>\n",
       "      <td>100.0</td>\n",
       "      <td>6.0</td>\n",
       "      <td>2010.0</td>\n",
       "      <td>1.0</td>\n",
       "      <td>18.0</td>\n",
       "      <td>2010.0</td>\n",
       "      <td>Feb,May,Aug,Nov</td>\n",
       "    </tr>\n",
       "    <tr>\n",
       "      <th>5</th>\n",
       "      <td>2013-01-01</td>\n",
       "      <td>375.0</td>\n",
       "      <td>2.0</td>\n",
       "      <td>0.0</td>\n",
       "      <td>0.0</td>\n",
       "      <td>0.0</td>\n",
       "      <td>0.0</td>\n",
       "      <td>a</td>\n",
       "      <td>1.0</td>\n",
       "      <td>a</td>\n",
       "      <td>c</td>\n",
       "      <td>15710.0</td>\n",
       "      <td>2.0</td>\n",
       "      <td>2013.0</td>\n",
       "      <td>1.0</td>\n",
       "      <td>37.0</td>\n",
       "      <td>2009.0</td>\n",
       "      <td>Jan,Apr,Jul,Oct</td>\n",
       "    </tr>\n",
       "    <tr>\n",
       "      <th>9</th>\n",
       "      <td>2013-01-01</td>\n",
       "      <td>371.0</td>\n",
       "      <td>2.0</td>\n",
       "      <td>0.0</td>\n",
       "      <td>0.0</td>\n",
       "      <td>0.0</td>\n",
       "      <td>0.0</td>\n",
       "      <td>a</td>\n",
       "      <td>1.0</td>\n",
       "      <td>d</td>\n",
       "      <td>c</td>\n",
       "      <td>1970.0</td>\n",
       "      <td>7.0</td>\n",
       "      <td>2009.0</td>\n",
       "      <td>1.0</td>\n",
       "      <td>45.0</td>\n",
       "      <td>2014.0</td>\n",
       "      <td>Feb,May,Aug,Nov</td>\n",
       "    </tr>\n",
       "    <tr>\n",
       "      <th>10</th>\n",
       "      <td>2013-01-01</td>\n",
       "      <td>370.0</td>\n",
       "      <td>2.0</td>\n",
       "      <td>0.0</td>\n",
       "      <td>0.0</td>\n",
       "      <td>0.0</td>\n",
       "      <td>0.0</td>\n",
       "      <td>a</td>\n",
       "      <td>1.0</td>\n",
       "      <td>d</td>\n",
       "      <td>a</td>\n",
       "      <td>8250.0</td>\n",
       "      <td>10.0</td>\n",
       "      <td>2000.0</td>\n",
       "      <td>1.0</td>\n",
       "      <td>31.0</td>\n",
       "      <td>2009.0</td>\n",
       "      <td>Jan,Apr,Jul,Oct</td>\n",
       "    </tr>\n",
       "    <tr>\n",
       "      <th>12</th>\n",
       "      <td>2013-01-01</td>\n",
       "      <td>368.0</td>\n",
       "      <td>2.0</td>\n",
       "      <td>0.0</td>\n",
       "      <td>0.0</td>\n",
       "      <td>0.0</td>\n",
       "      <td>0.0</td>\n",
       "      <td>a</td>\n",
       "      <td>1.0</td>\n",
       "      <td>d</td>\n",
       "      <td>c</td>\n",
       "      <td>1450.0</td>\n",
       "      <td>4.0</td>\n",
       "      <td>2005.0</td>\n",
       "      <td>1.0</td>\n",
       "      <td>45.0</td>\n",
       "      <td>2009.0</td>\n",
       "      <td>Feb,May,Aug,Nov</td>\n",
       "    </tr>\n",
       "  </tbody>\n",
       "</table>\n",
       "</div>"
      ],
      "text/plain": [
       "          Date  Store  DayOfWeek  Sales  Customers  Open  Promo StateHoliday  \\\n",
       "3   2013-01-01  377.0        2.0    0.0        0.0   0.0    0.0            a   \n",
       "5   2013-01-01  375.0        2.0    0.0        0.0   0.0    0.0            a   \n",
       "9   2013-01-01  371.0        2.0    0.0        0.0   0.0    0.0            a   \n",
       "10  2013-01-01  370.0        2.0    0.0        0.0   0.0    0.0            a   \n",
       "12  2013-01-01  368.0        2.0    0.0        0.0   0.0    0.0            a   \n",
       "\n",
       "    SchoolHoliday StoreType Assortment  CompetitionDistance  \\\n",
       "3             1.0         a          c                100.0   \n",
       "5             1.0         a          c              15710.0   \n",
       "9             1.0         d          c               1970.0   \n",
       "10            1.0         d          a               8250.0   \n",
       "12            1.0         d          c               1450.0   \n",
       "\n",
       "    CompetitionOpenSinceMonth  CompetitionOpenSinceYear  Promo2  \\\n",
       "3                         6.0                    2010.0     1.0   \n",
       "5                         2.0                    2013.0     1.0   \n",
       "9                         7.0                    2009.0     1.0   \n",
       "10                       10.0                    2000.0     1.0   \n",
       "12                        4.0                    2005.0     1.0   \n",
       "\n",
       "    Promo2SinceWeek  Promo2SinceYear    PromoInterval  \n",
       "3              18.0           2010.0  Feb,May,Aug,Nov  \n",
       "5              37.0           2009.0  Jan,Apr,Jul,Oct  \n",
       "9              45.0           2014.0  Feb,May,Aug,Nov  \n",
       "10             31.0           2009.0  Jan,Apr,Jul,Oct  \n",
       "12             45.0           2009.0  Feb,May,Aug,Nov  "
      ]
     },
     "execution_count": 30,
     "metadata": {},
     "output_type": "execute_result"
    }
   ],
   "source": [
    "df = pd.read_csv('./data/cleaned_data.csv',index_col=0)\n",
    "\n",
    "df.head()"
   ]
  },
  {
   "cell_type": "code",
   "execution_count": 31,
   "id": "0d8b6da4-8b02-4714-ae73-09720003cf05",
   "metadata": {},
   "outputs": [],
   "source": [
    "#reset df index\n",
    "df = df.reset_index(drop=True)"
   ]
  },
  {
   "cell_type": "code",
   "execution_count": 32,
   "id": "0439156e-d8e9-48ec-8dd1-36e015921851",
   "metadata": {},
   "outputs": [],
   "source": [
    "#get present year \n",
    "present_year = datetime.datetime.now().year\n",
    "\n",
    "#change the CompetitionOpenSinceYear from year to age count\n",
    "\n",
    "df['CompetitionOpenSinceAge'] = present_year - df['CompetitionOpenSinceYear']\n",
    "df['Promo2SinceAge'] = present_year - df['Promo2SinceYear']"
   ]
  },
  {
   "cell_type": "code",
   "execution_count": 57,
   "id": "53b5bd55-a203-47da-9928-bc3f3a73dc82",
   "metadata": {},
   "outputs": [],
   "source": [
    "#replace Store with the mean sales\n",
    "\n",
    "mean_encode = df.groupby('Store')['Sales'].mean().to_frame(name='Mean_Sales').reset_index()\n",
    "\n",
    "\n",
    "#save mean_encode to disk for future data\n",
    "mean_encode.to_csv('./data/mean_encode.csv')"
   ]
  },
  {
   "cell_type": "code",
   "execution_count": 34,
   "id": "6acd4983-5bf4-4ef0-a5ca-db9f233e1254",
   "metadata": {},
   "outputs": [],
   "source": [
    "#drop all rows where the Sales is zero\n",
    "\n",
    "df = df[df['Sales'] != 0]\n",
    "\n",
    "#drop all unused and unneccesary columns\n",
    "\n",
    "df = df.drop(['Date','PromoInterval','CompetitionOpenSinceYear','Promo2SinceYear','Customers'],axis=1)"
   ]
  },
  {
   "cell_type": "code",
   "execution_count": 35,
   "id": "15413420-80a9-441f-81e5-a418207fcc20",
   "metadata": {},
   "outputs": [],
   "source": [
    "#split into train,test, split\n",
    "\n",
    "y = df['Sales']\n",
    "X = df.drop(['Sales'],axis=1)\n",
    "\n",
    "X_train,X_test,y_train,y_test = train_test_split(X,y,test_size=0.2,shuffle=False)"
   ]
  },
  {
   "cell_type": "code",
   "execution_count": 36,
   "id": "89151e13-6eaf-4d76-ab35-952b666dfc8f",
   "metadata": {},
   "outputs": [],
   "source": [
    "#merge mean_encode with X_train and drop Store\n",
    "\n",
    "X_train = pd.merge(X_train,mean_encode, left_on=\"Store\",right_on=\"Store\",how='left',suffixes=('', ''))"
   ]
  },
  {
   "cell_type": "code",
   "execution_count": 37,
   "id": "c6608f8e-fbb6-4cca-9b98-a51594fe6653",
   "metadata": {},
   "outputs": [],
   "source": [
    "#encodings\n",
    "#ce_target = ce.TargetEncoder(cols = ['Store'])\n",
    "\n",
    "ce_base = ce.BaseNEncoder(cols = ['StoreType','Assortment','StateHoliday'],base=2)"
   ]
  },
  {
   "cell_type": "code",
   "execution_count": 38,
   "id": "bcc27e86-d85a-4164-9392-f03e78024291",
   "metadata": {},
   "outputs": [],
   "source": [
    "#drop the Sales\n",
    "X_train = X_train.drop('Store',axis=1)"
   ]
  },
  {
   "cell_type": "code",
   "execution_count": 39,
   "id": "f90a22e4-6830-4468-872b-271eafaa1415",
   "metadata": {},
   "outputs": [
    {
     "data": {
      "text/plain": [
       "DayOfWeek                    float64\n",
       "Open                         float64\n",
       "Promo                        float64\n",
       "StateHoliday                  object\n",
       "SchoolHoliday                float64\n",
       "StoreType                     object\n",
       "Assortment                    object\n",
       "CompetitionDistance          float64\n",
       "CompetitionOpenSinceMonth    float64\n",
       "Promo2                       float64\n",
       "Promo2SinceWeek              float64\n",
       "CompetitionOpenSinceAge      float64\n",
       "Promo2SinceAge               float64\n",
       "Mean_Sales                   float64\n",
       "dtype: object"
      ]
     },
     "execution_count": 39,
     "metadata": {},
     "output_type": "execute_result"
    }
   ],
   "source": [
    "X_train.dtypes"
   ]
  },
  {
   "cell_type": "markdown",
   "id": "380145b4-db66-474a-878c-a5183e2c5050",
   "metadata": {},
   "source": [
    "#### Baseline Model"
   ]
  },
  {
   "cell_type": "code",
   "execution_count": 40,
   "id": "153309f6-7b38-4dfa-a454-3250d9a4e292",
   "metadata": {},
   "outputs": [],
   "source": [
    "#build baseline model\n",
    "lr = LinearRegression()\n",
    "\n",
    "\n",
    "lr_pipeline = Pipeline([\n",
    "                        ('base_encode', ce_base),\n",
    "                       ('linear_regression',lr)\n",
    "                       ])\n",
    "lr_pipeline.fit(X_train,y_train)\n",
    "\n",
    "preds_lr = lr_pipeline.predict(X_test)"
   ]
  },
  {
   "cell_type": "code",
   "execution_count": 52,
   "id": "f65edbcb-3d00-44bb-b370-3585f6349812",
   "metadata": {},
   "outputs": [],
   "source": [
    "#error metric\n",
    "\n",
    "def metric(preds, actuals):\n",
    "    preds = preds.reshape(-1)\n",
    "    actuals = actuals.reshape(-1)\n",
    "    assert preds.shape == actuals.shape\n",
    "    return 100 * np.linalg.norm((actuals - preds) / actuals) / np.sqrt(preds.shape[0])"
   ]
  },
  {
   "cell_type": "code",
   "execution_count": 53,
   "id": "5c95f6e5-5589-40bd-a328-579ef4aa7aef",
   "metadata": {},
   "outputs": [
    {
     "data": {
      "text/plain": [
       "1492.6059738462704"
      ]
     },
     "execution_count": 53,
     "metadata": {},
     "output_type": "execute_result"
    }
   ],
   "source": [
    "#test lr_pipeline accuracy\n",
    "\n",
    "metric(preds_lr,y_test.to_numpy())"
   ]
  },
  {
   "cell_type": "markdown",
   "id": "aa905977-d217-4da7-90a7-b6c8c67c5f2f",
   "metadata": {},
   "source": [
    "### Gradient Boosted trees"
   ]
  },
  {
   "cell_type": "code",
   "execution_count": 15,
   "id": "10ea1df9-cd79-46de-b54e-35eb567f9f22",
   "metadata": {},
   "outputs": [],
   "source": [
    "#Build a Baseline model - linear regression\n",
    "gb_trees = LGBMRegressor(learning_rate=0.05,max_depth=5,n_estimators=500,n_jobs=-1, num_leaves=35,subsample=0.8)\n",
    "\n",
    "gb_pipeline =  Pipeline([\n",
    "                        ('base_encode', ce_base),\n",
    "                       ('gb_trees',gb_trees)\n",
    "                       ])\n",
    "gb_pipeline.fit(X_train,y_train)\n",
    "\n",
    "preds_tree = gb_pipeline.predict(X_test)  #predict on X_test"
   ]
  },
  {
   "cell_type": "code",
   "execution_count": 54,
   "id": "a4ec7861-e780-4272-9308-b090deb8f10c",
   "metadata": {},
   "outputs": [
    {
     "data": {
      "text/plain": [
       "54.66364870413005"
      ]
     },
     "execution_count": 54,
     "metadata": {},
     "output_type": "execute_result"
    }
   ],
   "source": [
    "#test gb_pipeline\n",
    "\n",
    "metric(preds_tree,y_test.to_numpy())"
   ]
  },
  {
   "cell_type": "code",
   "execution_count": 56,
   "id": "2464afa2-30bc-413e-8b8e-2a33c81954ed",
   "metadata": {},
   "outputs": [],
   "source": [
    "#save pipeline to disk\n",
    "import pickle\n",
    "\n",
    "filename = './pipeline/gb_pipeline.pkl'\n",
    "pickle.dump(gb_pipeline, open(filename, 'wb'))"
   ]
  },
  {
   "cell_type": "code",
   "execution_count": null,
   "id": "e5c58108-05e2-4981-9e79-30d22fbe789f",
   "metadata": {},
   "outputs": [],
   "source": []
  }
 ],
 "metadata": {
  "kernelspec": {
   "display_name": "Python 3 (ipykernel)",
   "language": "python",
   "name": "python3"
  },
  "language_info": {
   "codemirror_mode": {
    "name": "ipython",
    "version": 3
   },
   "file_extension": ".py",
   "mimetype": "text/x-python",
   "name": "python",
   "nbconvert_exporter": "python",
   "pygments_lexer": "ipython3",
   "version": "3.8.11"
  }
 },
 "nbformat": 4,
 "nbformat_minor": 5
}

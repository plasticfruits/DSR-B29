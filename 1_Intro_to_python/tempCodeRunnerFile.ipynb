ages = {"Joe": 50, "Gretchen": 31}

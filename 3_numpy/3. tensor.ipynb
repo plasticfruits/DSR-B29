{
 "cells": [
  {
   "cell_type": "code",
   "execution_count": 3,
   "metadata": {},
   "outputs": [],
   "source": [
    "import numpy as np\n",
    "from PIL import Image # pillow python for images"
   ]
  },
  {
   "cell_type": "markdown",
   "metadata": {},
   "source": [
    "# Tensors\n",
    "\n",
    "In the first notebook ([vector.ipynb](https://github.com/ADGEfficiency/teaching-monolith/blob/master/numpy/1.vector.ipynb)) we dealt with vectors (one dimensional).  In the second notebook ([matrix.ipynb](https://github.com/ADGEfficiency/teaching-monolith/blob/master/numpy/2.matrix.ipynb)) we looked at arrays with two dimensions.\n",
    "\n",
    "Now we deal with **Tensors** - arrays that can have many dimensions.\n",
    "\n",
    "- n-dimensional arrays\n",
    "- 3 = volume\n",
    "- uppercase, bold $\\textbf{A}_{i,j,k}$\n",
    "\n",
    "## Working in three dimensions\n",
    "\n",
    "Extension of two dimensions\n",
    "- everything we saw in the previous notebook holds\n",
    "\n",
    "Images\n",
    "- height\n",
    "- width\n",
    "- channels (colors)\n",
    "\n",
    "Sequential models\n",
    "- (batch_size, num_timesteps, *features)"
   ]
  },
  {
   "cell_type": "code",
   "execution_count": 5,
   "metadata": {},
   "outputs": [
    {
     "data": {
      "text/plain": [
       "array([[[0.31742649, 0.39789358, 0.93732754],\n",
       "        [0.6168035 , 0.9721521 , 0.98838098],\n",
       "        [0.45048804, 0.31846011, 0.60082397]],\n",
       "\n",
       "       [[0.34925112, 0.08788611, 0.56667092],\n",
       "        [0.02799341, 0.06259629, 0.81128092],\n",
       "        [0.75216065, 0.22369375, 0.94591851]],\n",
       "\n",
       "       [[0.47345641, 0.06276656, 0.04635233],\n",
       "        [0.35950181, 0.15146504, 0.63016841],\n",
       "        [0.10303753, 0.7707945 , 0.17492409]]])"
      ]
     },
     "execution_count": 5,
     "metadata": {},
     "output_type": "execute_result"
    }
   ],
   "source": [
    "image = np.random.rand(3,3,3)\n",
    "image"
   ]
  },
  {
   "cell_type": "markdown",
   "metadata": {},
   "source": [
    "## PNG to Numpy array"
   ]
  },
  {
   "cell_type": "code",
   "execution_count": 6,
   "metadata": {},
   "outputs": [],
   "source": [
    "img = Image.open(\"./data/abbyroad.png\")\n",
    "img.show()"
   ]
  },
  {
   "cell_type": "markdown",
   "metadata": {},
   "source": [
    "To see how this picture looks like in RGB code, we apply the following function:"
   ]
  },
  {
   "cell_type": "code",
   "execution_count": 8,
   "metadata": {},
   "outputs": [
    {
     "data": {
      "text/plain": [
       "array([[[ 15,  13,  16],\n",
       "        [ 15,  13,  16],\n",
       "        [ 15,  13,  16],\n",
       "        ...,\n",
       "        [ 20,  20,  20],\n",
       "        [ 17,  17,  15],\n",
       "        [ 16,  16,  14]],\n",
       "\n",
       "       [[ 16,  14,  17],\n",
       "        [ 16,  14,  17],\n",
       "        [ 16,  14,  17],\n",
       "        ...,\n",
       "        [ 21,  21,  21],\n",
       "        [ 20,  20,  18],\n",
       "        [ 20,  20,  18]],\n",
       "\n",
       "       [[ 17,  15,  18],\n",
       "        [ 17,  15,  18],\n",
       "        [ 16,  14,  17],\n",
       "        ...,\n",
       "        [ 20,  22,  19],\n",
       "        [ 21,  23,  20],\n",
       "        [ 22,  24,  21]],\n",
       "\n",
       "       ...,\n",
       "\n",
       "       [[202, 194, 171],\n",
       "        [199, 191, 168],\n",
       "        [196, 189, 163],\n",
       "        ...,\n",
       "        [205, 195, 159],\n",
       "        [209, 199, 163],\n",
       "        [213, 203, 167]],\n",
       "\n",
       "       [[201, 193, 170],\n",
       "        [197, 189, 166],\n",
       "        [195, 188, 162],\n",
       "        ...,\n",
       "        [206, 198, 161],\n",
       "        [208, 200, 163],\n",
       "        [213, 205, 168]],\n",
       "\n",
       "       [[200, 192, 169],\n",
       "        [196, 188, 165],\n",
       "        [194, 187, 161],\n",
       "        ...,\n",
       "        [209, 201, 164],\n",
       "        [210, 202, 165],\n",
       "        [214, 206, 169]]], dtype=uint8)"
      ]
     },
     "execution_count": 8,
     "metadata": {},
     "output_type": "execute_result"
    }
   ],
   "source": [
    "im_array = np.array(img)\n",
    "im_array"
   ]
  },
  {
   "cell_type": "markdown",
   "metadata": {},
   "source": [
    "## Practical\n",
    "Now create the negative version and grayscale version of that picture and save it in the data folder"
   ]
  },
  {
   "cell_type": "markdown",
   "metadata": {},
   "source": []
  },
  {
   "cell_type": "code",
   "execution_count": 17,
   "metadata": {},
   "outputs": [],
   "source": [
    "# Inverse Color\n",
    "inv_img = 205 - im_array\n",
    "img = Image.fromarray(inv_img)\n",
    "img.show()\n"
   ]
  },
  {
   "cell_type": "code",
   "execution_count": 21,
   "metadata": {},
   "outputs": [],
   "source": [
    "# Grayscale Picture\n",
    "gs_img = np.dot(im_array,[0.299, 0.587, 0.114])\n",
    "img = Image.fromarray(gs_img)\n",
    "img.show()"
   ]
  },
  {
   "cell_type": "code",
   "execution_count": null,
   "metadata": {},
   "outputs": [],
   "source": []
  },
  {
   "cell_type": "code",
   "execution_count": 31,
   "metadata": {},
   "outputs": [],
   "source": [
    "# Random Picture Normal dist\n",
    "\n",
    "gs_img = np.dot(im_array,np.random.exponential(3, 3)) \n",
    "img = Image.fromarray(gs_img)\n",
    "img.show()\n"
   ]
  },
  {
   "cell_type": "markdown",
   "metadata": {},
   "source": [
    "## Answers\n",
    "You are encourage to give it a try before you look at the solution"
   ]
  },
  {
   "cell_type": "code",
   "execution_count": null,
   "metadata": {},
   "outputs": [],
   "source": []
  },
  {
   "cell_type": "code",
   "execution_count": null,
   "metadata": {},
   "outputs": [],
   "source": []
  },
  {
   "cell_type": "code",
   "execution_count": null,
   "metadata": {},
   "outputs": [],
   "source": []
  }
 ],
 "metadata": {
  "kernelspec": {
   "display_name": "Python 3 (ipykernel)",
   "language": "python",
   "name": "python3"
  },
  "language_info": {
   "codemirror_mode": {
    "name": "ipython",
    "version": 3
   },
   "file_extension": ".py",
   "mimetype": "text/x-python",
   "name": "python",
   "nbconvert_exporter": "python",
   "pygments_lexer": "ipython3",
   "version": "3.7.11"
  },
  "varInspector": {
   "cols": {
    "lenName": 16,
    "lenType": 16,
    "lenVar": 40
   },
   "kernels_config": {
    "python": {
     "delete_cmd_postfix": "",
     "delete_cmd_prefix": "del ",
     "library": "var_list.py",
     "varRefreshCmd": "print(var_dic_list())"
    },
    "r": {
     "delete_cmd_postfix": ") ",
     "delete_cmd_prefix": "rm(",
     "library": "var_list.r",
     "varRefreshCmd": "cat(var_dic_list()) "
    }
   },
   "types_to_exclude": [
    "module",
    "function",
    "builtin_function_or_method",
    "instance",
    "_Feature"
   ],
   "window_display": false
  }
 },
 "nbformat": 4,
 "nbformat_minor": 4
}

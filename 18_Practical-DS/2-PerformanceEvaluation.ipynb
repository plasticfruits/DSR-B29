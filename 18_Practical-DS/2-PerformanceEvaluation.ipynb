{
 "cells": [
  {
   "cell_type": "markdown",
   "metadata": {},
   "source": [
    "### Load prediction data"
   ]
  },
  {
   "cell_type": "code",
   "execution_count": 1,
   "metadata": {},
   "outputs": [
    {
     "data": {
      "text/html": [
       "<div>\n",
       "<style scoped>\n",
       "    .dataframe tbody tr th:only-of-type {\n",
       "        vertical-align: middle;\n",
       "    }\n",
       "\n",
       "    .dataframe tbody tr th {\n",
       "        vertical-align: top;\n",
       "    }\n",
       "\n",
       "    .dataframe thead th {\n",
       "        text-align: right;\n",
       "    }\n",
       "</style>\n",
       "<table border=\"1\" class=\"dataframe\">\n",
       "  <thead>\n",
       "    <tr style=\"text-align: right;\">\n",
       "      <th></th>\n",
       "      <th>label</th>\n",
       "      <th>predReg</th>\n",
       "      <th>predGbt</th>\n",
       "    </tr>\n",
       "  </thead>\n",
       "  <tbody>\n",
       "    <tr>\n",
       "      <th>0</th>\n",
       "      <td>0</td>\n",
       "      <td>0.000048</td>\n",
       "      <td>0.000553</td>\n",
       "    </tr>\n",
       "    <tr>\n",
       "      <th>1</th>\n",
       "      <td>0</td>\n",
       "      <td>0.000258</td>\n",
       "      <td>0.004249</td>\n",
       "    </tr>\n",
       "    <tr>\n",
       "      <th>2</th>\n",
       "      <td>0</td>\n",
       "      <td>0.005530</td>\n",
       "      <td>0.003387</td>\n",
       "    </tr>\n",
       "    <tr>\n",
       "      <th>3</th>\n",
       "      <td>0</td>\n",
       "      <td>0.010935</td>\n",
       "      <td>0.010059</td>\n",
       "    </tr>\n",
       "    <tr>\n",
       "      <th>4</th>\n",
       "      <td>0</td>\n",
       "      <td>0.000002</td>\n",
       "      <td>0.000487</td>\n",
       "    </tr>\n",
       "  </tbody>\n",
       "</table>\n",
       "</div>"
      ],
      "text/plain": [
       "   label   predReg   predGbt\n",
       "0      0  0.000048  0.000553\n",
       "1      0  0.000258  0.004249\n",
       "2      0  0.005530  0.003387\n",
       "3      0  0.010935  0.010059\n",
       "4      0  0.000002  0.000487"
      ]
     },
     "execution_count": 1,
     "metadata": {},
     "output_type": "execute_result"
    }
   ],
   "source": [
    "import pandas as pd\n",
    "predictions = pd.read_csv(\"./data/predictions_test.csv\")\n",
    "predictions.head()"
   ]
  },
  {
   "cell_type": "markdown",
   "metadata": {},
   "source": [
    "### ROC plot construction"
   ]
  },
  {
   "cell_type": "markdown",
   "metadata": {},
   "source": [
    "The following method implements the generation of the points of a ROC curve for a given classifier:"
   ]
  },
  {
   "cell_type": "code",
   "execution_count": 2,
   "metadata": {},
   "outputs": [],
   "source": [
    "def rocPoints(df, classifier):\n",
    "    all_positives = (df[\"label\"] == 1).sum()\n",
    "    all_negatives = (df[\"label\"] == 0).sum()\n",
    "    tpr_points = [0]\n",
    "    fpr_points = [0]\n",
    "    thresholds_desc = df[classifier].sort_values(ascending=False) # = [0.97, 0.95, 0.94, ...]\n",
    "    for c in thresholds_desc:\n",
    "        df_above_c = df[df[classifier] >= c]  # part of df which is above threshold\n",
    "        true_positives = (df_above_c[\"label\"] == 1).sum()\n",
    "        false_positives = (df_above_c[\"label\"] == 0).sum()\n",
    "        tpr_points.append(true_positives / all_positives)\n",
    "        fpr_points.append(false_positives / all_negatives)\n",
    "    return fpr_points, tpr_points"
   ]
  },
  {
   "cell_type": "markdown",
   "metadata": {},
   "source": [
    "The following method implements the calculation of the area under the curve:"
   ]
  },
  {
   "cell_type": "code",
   "execution_count": 3,
   "metadata": {},
   "outputs": [],
   "source": [
    "import numpy as np\n",
    "\n",
    "def area_under_curve(fpr, tpr):\n",
    "    y = np.array(tpr)\n",
    "    x = np.array(fpr)\n",
    "    return np.trapz(y, x) # Integrate using the composite trapezoidal rule"
   ]
  },
  {
   "cell_type": "code",
   "execution_count": 4,
   "metadata": {},
   "outputs": [],
   "source": [
    "fpr_reg, tpr_reg = rocPoints(predictions, \"predReg\")\n",
    "auc_reg = area_under_curve(fpr_reg, tpr_reg)\n",
    "\n",
    "fpr_gbt, tpr_gbt = rocPoints(predictions, \"predGbt\")\n",
    "auc_gbt = area_under_curve(fpr_gbt, tpr_gbt)"
   ]
  },
  {
   "cell_type": "code",
   "execution_count": 5,
   "metadata": {},
   "outputs": [
    {
     "data": {
      "image/png": "[encoded data removed]",
      "text/plain": [
       "<Figure size 432x288 with 1 Axes>"
      ]
     },
     "metadata": {
      "needs_background": "light"
     },
     "output_type": "display_data"
    }
   ],
   "source": [
    "import matplotlib.pyplot as plt\n",
    "plt.figure()\n",
    "plt.plot(fpr_reg, tpr_reg, color='blue', label=f\"reg:{auc_reg:.3f}\")\n",
    "plt.plot(fpr_gbt, tpr_gbt, color='green', label=f\"gbt:{auc_gbt:.3f}\")\n",
    "plt.legend()\n",
    "plt.grid()\n",
    "plt.show()"
   ]
  },
  {
   "cell_type": "markdown",
   "metadata": {},
   "source": [
    "### Compare with ROC and AUC from sklearn"
   ]
  },
  {
   "cell_type": "code",
   "execution_count": 6,
   "metadata": {},
   "outputs": [],
   "source": [
    "from sklearn.metrics import auc, roc_curve\n",
    "\n",
    "fpr_reg, tpr_reg, _ = roc_curve(predictions[\"label\"], predictions[\"predReg\"])\n",
    "auc_reg = auc(fpr_reg, tpr_reg)\n",
    "\n",
    "fpr_gbt, tpr_gbt, _ = roc_curve(predictions[\"label\"], predictions[\"predGbt\"])\n",
    "auc_gbt = auc(fpr_gbt, tpr_gbt)"
   ]
  },
  {
   "cell_type": "code",
   "execution_count": 7,
   "metadata": {},
   "outputs": [
    {
     "data": {
      "image/png": "[encoded data removed]",
      "text/plain": [
       "<Figure size 432x288 with 1 Axes>"
      ]
     },
     "metadata": {
      "needs_background": "light"
     },
     "output_type": "display_data"
    }
   ],
   "source": [
    "plt.figure()\n",
    "plt.plot(fpr_reg, tpr_reg, color = 'blue', label=f\"reg:{auc_reg:.3f}\")\n",
    "plt.plot(fpr_gbt, tpr_gbt, color = 'green', label=f\"gbt:{auc_gbt:.3f}\")\n",
    "plt.legend()\n",
    "plt.grid()\n",
    "plt.show()"
   ]
  },
  {
   "cell_type": "code",
   "execution_count": null,
   "metadata": {},
   "outputs": [],
   "source": []
  }
 ],
 "metadata": {
  "kernelspec": {
   "display_name": "Python 3 (ipykernel)",
   "language": "python",
   "name": "python3"
  },
  "language_info": {
   "codemirror_mode": {
    "name": "ipython",
    "version": 3
   },
   "file_extension": ".py",
   "mimetype": "text/x-python",
   "name": "python",
   "nbconvert_exporter": "python",
   "pygments_lexer": "ipython3",
   "version": "3.8.12"
  }
 },
 "nbformat": 4,
 "nbformat_minor": 2
}

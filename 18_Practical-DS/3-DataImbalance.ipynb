{
 "cells": [
  {
   "cell_type": "code",
   "execution_count": 1,
   "metadata": {},
   "outputs": [],
   "source": [
    "import pandas as pd\n",
    "from sklearn.utils import resample\n",
    "from sklearn import metrics"
   ]
  },
  {
   "cell_type": "code",
   "execution_count": 2,
   "metadata": {},
   "outputs": [],
   "source": [
    "train = pd.read_pickle(\"./data/train.pickle\")\n",
    "test = pd.read_pickle(\"./data/test.pickle\")"
   ]
  },
  {
   "cell_type": "code",
   "execution_count": 3,
   "metadata": {},
   "outputs": [
    {
     "data": {
      "text/plain": [
       "0    21495\n",
       "1      205\n",
       "Name: returnLabel, dtype: int64"
      ]
     },
     "execution_count": 3,
     "metadata": {},
     "output_type": "execute_result"
    }
   ],
   "source": [
    "train[\"returnLabel\"].value_counts()"
   ]
  },
  {
   "cell_type": "markdown",
   "metadata": {},
   "source": [
    "## Upsampling"
   ]
  },
  {
   "cell_type": "code",
   "execution_count": 4,
   "metadata": {},
   "outputs": [
    {
     "data": {
      "text/plain": [
       "0    21495\n",
       "1    21495\n",
       "Name: returnLabel, dtype: int64"
      ]
     },
     "execution_count": 4,
     "metadata": {},
     "output_type": "execute_result"
    }
   ],
   "source": [
    "train_majority = train[train.returnLabel==0].reset_index(drop=True)\n",
    "train_minority = train[train.returnLabel==1].reset_index(drop=True)\n",
    "\n",
    "# Upsample minority class\n",
    "target_size = train_majority.shape[0]\n",
    "upsampled = resample(train_minority, replace=True, n_samples=target_size, random_state=0)\n",
    "\n",
    "# Combine majority class with upsampled minority class\n",
    "train_upsampled = pd.concat([train_majority, upsampled])\n",
    "\n",
    "# Show new class counts\n",
    "train_upsampled.returnLabel.value_counts()"
   ]
  },
  {
   "cell_type": "code",
   "execution_count": 5,
   "metadata": {},
   "outputs": [],
   "source": [
    "X_train = train_upsampled.drop(\"returnLabel\", axis=1)\n",
    "y_train = train_upsampled[\"returnLabel\"]\n",
    "X_test = test.drop(\"returnLabel\", axis=1)\n",
    "y_test = test[\"returnLabel\"]"
   ]
  },
  {
   "cell_type": "code",
   "execution_count": 6,
   "metadata": {},
   "outputs": [
    {
     "data": {
      "text/plain": [
       "(42990, 908)"
      ]
     },
     "execution_count": 6,
     "metadata": {},
     "output_type": "execute_result"
    }
   ],
   "source": [
    "X_train.shape"
   ]
  },
  {
   "cell_type": "code",
   "execution_count": 7,
   "metadata": {},
   "outputs": [],
   "source": [
    "train_upsampled.to_pickle(\"./data/train_upsampled.pickle\")"
   ]
  },
  {
   "cell_type": "code",
   "execution_count": 8,
   "metadata": {},
   "outputs": [
    {
     "data": {
      "text/plain": [
       "LogisticRegression(max_iter=5000)"
      ]
     },
     "execution_count": 8,
     "metadata": {},
     "output_type": "execute_result"
    }
   ],
   "source": [
    "from sklearn.linear_model import LogisticRegression\n",
    "logreg_up = LogisticRegression(max_iter=5000)\n",
    "logreg_up.fit(X_train, y_train)"
   ]
  },
  {
   "cell_type": "code",
   "execution_count": 9,
   "metadata": {},
   "outputs": [
    {
     "data": {
      "text/plain": [
       "GradientBoostingClassifier()"
      ]
     },
     "execution_count": 9,
     "metadata": {},
     "output_type": "execute_result"
    }
   ],
   "source": [
    "from sklearn.ensemble import GradientBoostingClassifier\n",
    "gbt_up = GradientBoostingClassifier()\n",
    "gbt_up.fit(X_train, y_train)"
   ]
  },
  {
   "cell_type": "code",
   "execution_count": 10,
   "metadata": {},
   "outputs": [],
   "source": [
    "test_scores = logreg_up.predict_proba(X_test)\n",
    "fpr_reg_up, tpr_reg_up, _ = metrics.roc_curve(y_test, test_scores[:,1])\n",
    "auc_reg_up = metrics.auc(fpr_reg_up, tpr_reg_up)"
   ]
  },
  {
   "cell_type": "code",
   "execution_count": 11,
   "metadata": {},
   "outputs": [],
   "source": [
    "test_scores = gbt_up.predict_proba(X_test)\n",
    "fpr_gbt_up, tpr_gbt_up, _ = metrics.roc_curve(y_test, test_scores[:,1])\n",
    "auc_gbt_up = metrics.auc(fpr_gbt_up, tpr_gbt_up)"
   ]
  },
  {
   "cell_type": "code",
   "execution_count": 12,
   "metadata": {},
   "outputs": [],
   "source": [
    "predictions = pd.read_csv(\"./data/predictions_test.csv\")\n",
    "fpr_reg, tpr_reg, _ = metrics.roc_curve(predictions[\"label\"], predictions[\"predReg\"])\n",
    "auc_reg = metrics.auc(fpr_reg, tpr_reg)\n",
    "fpr_gbt, tpr_gbt, _ = metrics.roc_curve(predictions[\"label\"], predictions[\"predGbt\"])\n",
    "auc_gbt = metrics.auc(fpr_gbt, tpr_gbt)"
   ]
  },
  {
   "cell_type": "code",
   "execution_count": 13,
   "metadata": {},
   "outputs": [
    {
     "name": "stdout",
     "output_type": "stream",
     "text": [
      "AUC - normal regression:0.956\n",
      "AUC - upsampled regression:0.943\n",
      "AUC - normal GBT:0.935\n",
      "AUC - upsampled GBT:0.948\n"
     ]
    }
   ],
   "source": [
    "print(f\"AUC - normal regression:{auc_reg:.3f}\")\n",
    "print(f\"AUC - upsampled regression:{auc_reg_up:.3f}\")\n",
    "print(f\"AUC - normal GBT:{auc_gbt:.3f}\")\n",
    "print(f\"AUC - upsampled GBT:{auc_gbt_up:.3f}\")"
   ]
  },
  {
   "cell_type": "code",
   "execution_count": 14,
   "metadata": {},
   "outputs": [
    {
     "data": {
      "image/png": "[encoded data removed]",
      "text/plain": [
       "<Figure size 432x288 with 1 Axes>"
      ]
     },
     "metadata": {
      "needs_background": "light"
     },
     "output_type": "display_data"
    }
   ],
   "source": [
    "%matplotlib inline\n",
    "import matplotlib.pyplot as plt\n",
    "plt.figure()\n",
    "plt.plot(fpr_reg_up, tpr_reg_up, color = 'red', label=f\"reg_up:{auc_reg_up:.3f}\")\n",
    "plt.plot(fpr_gbt_up, tpr_gbt_up, color = 'black', label=f\"gbt_up:{auc_gbt_up:.3f}\")\n",
    "plt.plot(fpr_reg, tpr_reg, color = 'blue', label=f\"reg:{auc_reg:.3f}\")\n",
    "plt.plot(fpr_gbt, tpr_gbt, color = 'green', label=f\"gbt:{auc_gbt:.3f}\")\n",
    "plt.legend()\n",
    "plt.grid()\n",
    "plt.show()"
   ]
  },
  {
   "cell_type": "code",
   "execution_count": 15,
   "metadata": {},
   "outputs": [],
   "source": [
    "# save predictions of upsampled gbt model\n",
    "predictions['predGbt_up'] = test_scores[:,1]\n",
    "predictions.to_csv(\"./data/predictions_up.csv\", index=False)"
   ]
  },
  {
   "cell_type": "code",
   "execution_count": 16,
   "metadata": {},
   "outputs": [
    {
     "data": {
      "text/plain": [
       "['model/gbt_upsampled.pkl']"
      ]
     },
     "execution_count": 16,
     "metadata": {},
     "output_type": "execute_result"
    }
   ],
   "source": [
    "# save the model to re-use it in the next task\n",
    "import joblib\n",
    "joblib.dump(gbt_up, \"model/gbt_upsampled.pkl\")"
   ]
  },
  {
   "cell_type": "markdown",
   "metadata": {},
   "source": [
    "## Downsampling"
   ]
  },
  {
   "cell_type": "code",
   "execution_count": 17,
   "metadata": {},
   "outputs": [
    {
     "data": {
      "text/plain": [
       "0    205\n",
       "1    205\n",
       "Name: returnLabel, dtype: int64"
      ]
     },
     "execution_count": 17,
     "metadata": {},
     "output_type": "execute_result"
    }
   ],
   "source": [
    "target_size = train_minority.shape[0]\n",
    "downsampled = resample(train_majority, n_samples=target_size, random_state=0)\n",
    "train_downsampled = pd.concat([downsampled, train_minority])\n",
    "\n",
    "# Show new class counts\n",
    "train_downsampled.returnLabel.value_counts()"
   ]
  },
  {
   "cell_type": "code",
   "execution_count": 18,
   "metadata": {},
   "outputs": [],
   "source": [
    "X_train = train_downsampled.drop(\"returnLabel\", axis=1)\n",
    "y_train = train_downsampled[\"returnLabel\"]"
   ]
  },
  {
   "cell_type": "code",
   "execution_count": 19,
   "metadata": {},
   "outputs": [
    {
     "data": {
      "text/plain": [
       "GradientBoostingClassifier()"
      ]
     },
     "execution_count": 19,
     "metadata": {},
     "output_type": "execute_result"
    }
   ],
   "source": [
    "logreg_down = LogisticRegression(max_iter=5000)\n",
    "logreg_down.fit(X_train, y_train)\n",
    "gbt_down = GradientBoostingClassifier()\n",
    "gbt_down.fit(X_train, y_train)"
   ]
  },
  {
   "cell_type": "code",
   "execution_count": 20,
   "metadata": {},
   "outputs": [],
   "source": [
    "test_scores = logreg_down.predict_proba(X_test)\n",
    "fpr_reg_down, tpr_reg_down, _ = metrics.roc_curve(y_test, test_scores[:,1])\n",
    "auc_reg_down = metrics.auc(fpr_reg_down, tpr_reg_down)\n",
    "test_scores = gbt_down.predict_proba(X_test)\n",
    "fpr_gbt_down, tpr_gbt_down, _ = metrics.roc_curve(y_test, test_scores[:,1])\n",
    "auc_gbt_down = metrics.auc(fpr_gbt_down, tpr_gbt_down)"
   ]
  },
  {
   "cell_type": "code",
   "execution_count": 21,
   "metadata": {},
   "outputs": [
    {
     "name": "stdout",
     "output_type": "stream",
     "text": [
      "AUC - normal regression:0.956\n",
      "AUC - downsampled regression:0.954\n",
      "AUC - normal GBT:0.935\n",
      "AUC - downsampled GBT:0.943\n"
     ]
    }
   ],
   "source": [
    "print(f\"AUC - normal regression:{auc_reg:.3f}\")\n",
    "print(f\"AUC - downsampled regression:{auc_reg_down:.3f}\")\n",
    "print(f\"AUC - normal GBT:{auc_gbt:.3f}\")\n",
    "print(f\"AUC - downsampled GBT:{auc_gbt_down:.3f}\")"
   ]
  },
  {
   "cell_type": "code",
   "execution_count": 22,
   "metadata": {},
   "outputs": [
    {
     "data": {
      "image/png": "[encoded data removed]",
      "text/plain": [
       "<Figure size 432x288 with 1 Axes>"
      ]
     },
     "metadata": {
      "needs_background": "light"
     },
     "output_type": "display_data"
    }
   ],
   "source": [
    "plt.figure()\n",
    "plt.plot(fpr_reg_down, tpr_reg_down, color='red', label=f\"reg_down:{auc_reg_down:.3f}\")\n",
    "plt.plot(fpr_gbt_down, tpr_gbt_down, color='black', label=f\"gbt_down:{auc_gbt_down:.3f}\")\n",
    "plt.plot(fpr_reg, tpr_reg, color='blue', label=f\"reg:{auc_reg:.3f}\")\n",
    "plt.plot(fpr_gbt, tpr_gbt, color='green', label=f\"gbt:{auc_gbt:.3f}\")\n",
    "plt.legend()\n",
    "plt.grid()\n",
    "plt.show()"
   ]
  },
  {
   "cell_type": "markdown",
   "metadata": {},
   "source": [
    "### SMOTE algorithm"
   ]
  },
  {
   "cell_type": "code",
   "execution_count": 23,
   "metadata": {},
   "outputs": [
    {
     "name": "stdout",
     "output_type": "stream",
     "text": [
      "0    21495\n",
      "1    21495\n",
      "Name: returnLabel, dtype: int64\n"
     ]
    },
    {
     "data": {
      "text/plain": [
       "LogisticRegression(max_iter=5000)"
      ]
     },
     "execution_count": 23,
     "metadata": {},
     "output_type": "execute_result"
    }
   ],
   "source": [
    "import imblearn\n",
    "X_train = train.drop(\"returnLabel\", axis=1)\n",
    "y_train = train[\"returnLabel\"]\n",
    "\n",
    "sm = imblearn.over_sampling.SMOTE(random_state=0)\n",
    "X_res, y_res = sm.fit_resample(X_train, y_train)\n",
    "print(y_res.value_counts())\n",
    "\n",
    "logreg_sm = LogisticRegression(max_iter=5000)\n",
    "logreg_sm.fit(X_res, y_res)"
   ]
  },
  {
   "cell_type": "code",
   "execution_count": 24,
   "metadata": {},
   "outputs": [],
   "source": [
    "test_scores = logreg_sm.predict_proba(X_test)\n",
    "fpr_reg_sm, tpr_reg_sm, _ = metrics.roc_curve(y_test, test_scores[:,1])\n",
    "auc_reg_sm = metrics.auc(fpr_reg_sm, tpr_reg_sm)"
   ]
  },
  {
   "cell_type": "code",
   "execution_count": 25,
   "metadata": {},
   "outputs": [
    {
     "name": "stdout",
     "output_type": "stream",
     "text": [
      "AUC - normal regression:0.956\n",
      "AUC - SMOTE + regression:0.918\n"
     ]
    }
   ],
   "source": [
    "print(f\"AUC - normal regression:{auc_reg:.3f}\")\n",
    "print(f\"AUC - SMOTE + regression:{auc_reg_sm:.3f}\")"
   ]
  },
  {
   "cell_type": "code",
   "execution_count": 26,
   "metadata": {},
   "outputs": [
    {
     "data": {
      "image/png": "[encoded data removed]",
      "text/plain": [
       "<Figure size 432x288 with 1 Axes>"
      ]
     },
     "metadata": {
      "needs_background": "light"
     },
     "output_type": "display_data"
    }
   ],
   "source": [
    "plt.figure()\n",
    "plt.plot(fpr_reg, tpr_reg, color='blue', label=f\"reg:{auc_reg:.3f}\")\n",
    "plt.plot(fpr_reg_sm, tpr_reg_sm, color='red', label=f\"reg_sm:{auc_reg_sm:.3f}\")\n",
    "plt.legend()\n",
    "plt.grid()\n",
    "plt.show()"
   ]
  }
 ],
 "metadata": {
  "kernelspec": {
   "display_name": "Python 3 (ipykernel)",
   "language": "python",
   "name": "python3"
  },
  "language_info": {
   "codemirror_mode": {
    "name": "ipython",
    "version": 3
   },
   "file_extension": ".py",
   "mimetype": "text/x-python",
   "name": "python",
   "nbconvert_exporter": "python",
   "pygments_lexer": "ipython3",
   "version": "3.8.12"
  }
 },
 "nbformat": 4,
 "nbformat_minor": 2
}

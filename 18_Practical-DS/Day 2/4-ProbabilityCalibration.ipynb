{
 "cells": [
  {
   "cell_type": "markdown",
   "metadata": {},
   "source": [
    "### Load data"
   ]
  },
  {
   "cell_type": "code",
   "execution_count": 10,
   "metadata": {
    "scrolled": true
   },
   "outputs": [
    {
     "data": {
      "text/html": [
       "<div>\n",
       "<style scoped>\n",
       "    .dataframe tbody tr th:only-of-type {\n",
       "        vertical-align: middle;\n",
       "    }\n",
       "\n",
       "    .dataframe tbody tr th {\n",
       "        vertical-align: top;\n",
       "    }\n",
       "\n",
       "    .dataframe thead th {\n",
       "        text-align: right;\n",
       "    }\n",
       "</style>\n",
       "<table border=\"1\" class=\"dataframe\">\n",
       "  <thead>\n",
       "    <tr style=\"text-align: right;\">\n",
       "      <th></th>\n",
       "      <th>label</th>\n",
       "      <th>predReg</th>\n",
       "      <th>predGbt</th>\n",
       "      <th>predGbt_up</th>\n",
       "    </tr>\n",
       "  </thead>\n",
       "  <tbody>\n",
       "    <tr>\n",
       "      <th>0</th>\n",
       "      <td>0</td>\n",
       "      <td>0.000048</td>\n",
       "      <td>0.000553</td>\n",
       "      <td>0.021381</td>\n",
       "    </tr>\n",
       "    <tr>\n",
       "      <th>1</th>\n",
       "      <td>0</td>\n",
       "      <td>0.000258</td>\n",
       "      <td>0.004249</td>\n",
       "      <td>0.005709</td>\n",
       "    </tr>\n",
       "    <tr>\n",
       "      <th>2</th>\n",
       "      <td>0</td>\n",
       "      <td>0.005530</td>\n",
       "      <td>0.003387</td>\n",
       "      <td>0.042259</td>\n",
       "    </tr>\n",
       "    <tr>\n",
       "      <th>3</th>\n",
       "      <td>0</td>\n",
       "      <td>0.010935</td>\n",
       "      <td>0.010059</td>\n",
       "      <td>0.683194</td>\n",
       "    </tr>\n",
       "    <tr>\n",
       "      <th>4</th>\n",
       "      <td>0</td>\n",
       "      <td>0.000002</td>\n",
       "      <td>0.000487</td>\n",
       "      <td>0.017195</td>\n",
       "    </tr>\n",
       "  </tbody>\n",
       "</table>\n",
       "</div>"
      ],
      "text/plain": [
       "   label   predReg   predGbt  predGbt_up\n",
       "0      0  0.000048  0.000553    0.021381\n",
       "1      0  0.000258  0.004249    0.005709\n",
       "2      0  0.005530  0.003387    0.042259\n",
       "3      0  0.010935  0.010059    0.683194\n",
       "4      0  0.000002  0.000487    0.017195"
      ]
     },
     "execution_count": 10,
     "metadata": {},
     "output_type": "execute_result"
    }
   ],
   "source": [
    "import pandas as pd\n",
    "import numpy as np\n",
    "predictions = pd.read_csv(\"./data/predictions_up.csv\")\n",
    "predictions.head()"
   ]
  },
  {
   "cell_type": "markdown",
   "metadata": {},
   "source": [
    "### Task 4.1 - Brier Score"
   ]
  },
  {
   "cell_type": "code",
   "execution_count": 11,
   "metadata": {},
   "outputs": [
    {
     "name": "stdout",
     "output_type": "stream",
     "text": [
      "Brier Score of LogReg is: 0.007135093473782814\n",
      "Brier Score of Upsampled Gbt is: 0.08715107854604376\n",
      "Brier Score of GBT is: 0.00983328497983297\n"
     ]
    }
   ],
   "source": [
    "def brierScore(df, modelName):\n",
    "    return np.average((df[\"label\"].values - df[modelName].values) ** 2)\n",
    "\n",
    "brier_reg = brierScore(predictions, \"predReg\")\n",
    "brier_reg_up = brierScore(predictions, \"predGbt_up\")\n",
    "brier_gbt = brierScore(predictions, \"predGbt\")\n",
    "\n",
    "print(\"Brier Score of LogReg is:\", brier_reg)\n",
    "print(\"Brier Score of Upsampled Gbt is:\", brier_reg_up)\n",
    "print(\"Brier Score of GBT is:\", brier_gbt)"
   ]
  },
  {
   "cell_type": "markdown",
   "metadata": {},
   "source": [
    "### Task 4.2 - Calibration Plot"
   ]
  },
  {
   "cell_type": "code",
   "execution_count": 12,
   "metadata": {},
   "outputs": [],
   "source": [
    "def calibrationPlot(predictions, modelName, bucketSize=100):\n",
    "    p_sorted = predictions.sort_values(by=[modelName]).reset_index(drop=True)\n",
    "    p_sorted[\"bucket_num\"] = p_sorted.index.map(lambda x: x // bucketSize)\n",
    "    p_mean = p_sorted.groupby(by='bucket_num').mean()\n",
    "    return (p_mean[\"label\"], p_mean[modelName])"
   ]
  },
  {
   "cell_type": "code",
   "execution_count": 13,
   "metadata": {
    "scrolled": true
   },
   "outputs": [
    {
     "data": {
      "image/png": "[encoded data removed]",
      "text/plain": [
       "<Figure size 432x288 with 1 Axes>"
      ]
     },
     "metadata": {
      "needs_background": "light"
     },
     "output_type": "display_data"
    }
   ],
   "source": [
    "p_real_gbt, p_predicted_gbt  = calibrationPlot(predictions, \"predGbt\")\n",
    "p_real_reg, p_predicted_reg  = calibrationPlot(predictions, \"predReg\")\n",
    "p_real_gbtup, p_predicted_gbtup  = calibrationPlot(predictions, \"predGbt_up\")\n",
    "\n",
    "import matplotlib.pyplot as plt\n",
    "plt.figure()\n",
    "plt.plot([0, 1], [0, 1], label = \"perfect\")\n",
    "plt.plot(p_predicted_gbt, p_real_gbt, color='g', label=f\"gbt:{brier_gbt:.5f}\")\n",
    "plt.plot(p_predicted_reg, p_real_reg, color='b', label=f\"reg:{brier_reg:.5f}\")\n",
    "plt.plot(p_predicted_gbtup,p_real_gbtup, color='r', label=f\"gbt_up:{brier_reg_up:.5f}\")\n",
    "plt.legend()\n",
    "plt.grid()\n",
    "plt.show()"
   ]
  },
  {
   "cell_type": "markdown",
   "metadata": {},
   "source": [
    "### Task 4.3 - Probability Calibration"
   ]
  },
  {
   "cell_type": "markdown",
   "metadata": {},
   "source": [
    "To calibrate the probablities of the model trained on the upsampled data, we use the `CalibratedClassifierCV` which trains the model and the calibration together in one run.\n",
    "\n",
    "For this we first need to load again the __not upsampled__ train data and the model we want to calibrate:"
   ]
  },
  {
   "cell_type": "code",
   "execution_count": 14,
   "metadata": {
    "scrolled": true
   },
   "outputs": [],
   "source": [
    "train_data = pd.read_pickle(\"./data/train.pickle\")\n",
    "X_train = train_data.drop(\"returnLabel\", axis=1)\n",
    "y_train = train_data[\"returnLabel\"]"
   ]
  },
  {
   "cell_type": "code",
   "execution_count": 15,
   "metadata": {},
   "outputs": [],
   "source": [
    "from joblib import dump, load\n",
    "gbt = load('model/gbt_upsampled.pkl')"
   ]
  },
  {
   "cell_type": "markdown",
   "metadata": {},
   "source": [
    "This our already trained GBT (trained on the upsampled data) that we want to calibrate:"
   ]
  },
  {
   "cell_type": "markdown",
   "metadata": {},
   "source": [
    "Now we define the calibration model on top and train it:"
   ]
  },
  {
   "cell_type": "code",
   "execution_count": 16,
   "metadata": {},
   "outputs": [
    {
     "data": {
      "text/plain": [
       "CalibratedClassifierCV(base_estimator=GradientBoostingClassifier(), cv='prefit')"
      ]
     },
     "execution_count": 16,
     "metadata": {},
     "output_type": "execute_result"
    }
   ],
   "source": [
    "from sklearn.calibration import CalibratedClassifierCV\n",
    "calibrated_clf = CalibratedClassifierCV(base_estimator=gbt, cv=\"prefit\")\n",
    "calibrated_clf.fit(X_train, y_train)"
   ]
  },
  {
   "cell_type": "markdown",
   "metadata": {},
   "source": [
    "We then use this model to predict on the test data:"
   ]
  },
  {
   "cell_type": "code",
   "execution_count": 20,
   "metadata": {},
   "outputs": [],
   "source": [
    "test_data = pd.read_pickle(\"./data/test.pickle\")\n",
    "X_test = test_data.drop(\"returnLabel\", axis=1)\n",
    "y_test = test_data[\"returnLabel\"]\n",
    "test_scores = calibrated_clf.predict_proba(X_test)"
   ]
  },
  {
   "cell_type": "markdown",
   "metadata": {},
   "source": [
    "And finally compare the calibration against the upsampled gbt model:"
   ]
  },
  {
   "cell_type": "code",
   "execution_count": 19,
   "metadata": {
    "scrolled": true
   },
   "outputs": [
    {
     "data": {
      "image/png": "[encoded data removed]",
      "text/plain": [
       "<Figure size 432x288 with 1 Axes>"
      ]
     },
     "metadata": {
      "needs_background": "light"
     },
     "output_type": "display_data"
    }
   ],
   "source": [
    "df = pd.DataFrame(data={'label': y_test, 'pred': test_scores[:,1]}).reset_index(drop=True)\n",
    "return_rate, scores = calibrationError(df, \"pred\")\n",
    "brier = brierScore(df, \"pred\")\n",
    "\n",
    "plt.figure()\n",
    "plt.plot([0, 1], [0, 1], label = \"perfect\")\n",
    "plt.plot(scores, return_rate, color = 'g', label = f\"gbt_up_calibrated:{brier:.3f}\")\n",
    "plt.plot(p_predicted_gbtup, p_real_gbtup, color='r', label=f\"gbt_up:{brier_reg_up:.5f}\")\n",
    "plt.legend()\n",
    "plt.grid()\n",
    "plt.show()"
   ]
  }
 ],
 "metadata": {
  "kernelspec": {
   "display_name": "Python 3 (ipykernel)",
   "language": "python",
   "name": "python3"
  },
  "language_info": {
   "codemirror_mode": {
    "name": "ipython",
    "version": 3
   },
   "file_extension": ".py",
   "mimetype": "text/x-python",
   "name": "python",
   "nbconvert_exporter": "python",
   "pygments_lexer": "ipython3",
   "version": "3.8.12"
  }
 },
 "nbformat": 4,
 "nbformat_minor": 2
}
